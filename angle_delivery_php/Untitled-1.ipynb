{
 "cells": [
  {
   "cell_type": "code",
   "execution_count": 19,
   "metadata": {},
   "outputs": [
    {
     "name": "stdout",
     "output_type": "stream",
     "text": [
      "   🦉\n",
      "  🦉🦉\n",
      " 🦉🦉🦉\n",
      "🦉🦉🦉🦉\n"
     ]
    }
   ],
   "source": [
    "def draw_owl_graph(num_rows):\n",
    "    spaces = num_rows - 1\n",
    "    owls = 1\n",
    "\n",
    "    for _ in range(num_rows):\n",
    "        print(' ' * spaces, end='')\n",
    "        print('🦉' * owls)\n",
    "        spaces -= 1\n",
    "        owls += 1\n",
    "    \n",
    "    for owl in range(1, owls):\n",
    "        # Step14 : Print one Owl emoji 🦉.\n",
    "        print(\"🦉\", end=\"\")\n",
    "    \n",
    "    # Step15 : Decrease spaces by one.\n",
    "    spaces += 1\n",
    "    \n",
    "    # Step16 : Decrease owls by one.\n",
    "    owls -= 1\n",
    "    \n",
    "    # Move to next line after printing each row\n",
    "    print()\n",
    "\n",
    "# Example usage with 4 rows\n",
    "num_rows = int(input(\"Enter the number of rows for the Owl graph: \"))\n",
    "draw_owl_graph(num_rows)"
   ]
  },
  {
   "cell_type": "code",
   "execution_count": 8,
   "metadata": {},
   "outputs": [],
   "source": [
    "def draw_owl_graph(num_rows):\n",
    "    spaces = num_rows - 1\n",
    "    owls = 1\n",
    "\n",
    "    for i in range(num_rows):\n",
    "        if i > 4:\n",
    "           owls = 4\n",
    "           spaces=1\n",
    "           print(' ' * spaces, end='')\n",
    "           print('🦉' * owls)\n",
    "           spaces += 1\n",
    "           owls -= 1\n",
    "        else:\n",
    "          print(' ' * spaces, end='')\n",
    "          print('🦉' * owls)\n",
    "          spaces -= 1\n",
    "          owls += 1\n"
   ]
  },
  {
   "cell_type": "code",
   "execution_count": 9,
   "metadata": {},
   "outputs": [
    {
     "name": "stdout",
     "output_type": "stream",
     "text": [
      "       🦉\n",
      "      🦉🦉\n",
      "     🦉🦉🦉\n",
      "    🦉🦉🦉🦉\n",
      "   🦉🦉🦉🦉🦉\n",
      " 🦉🦉🦉🦉🦉🦉🦉\n",
      " 🦉🦉🦉🦉🦉🦉🦉\n",
      " 🦉🦉🦉🦉🦉🦉🦉\n"
     ]
    }
   ],
   "source": [
    "\n",
    "# Example usage with 4 rows\n",
    "num_rows = int(input(\"Enter the number of rows for the Owl graph: \"))\n",
    "draw_owl_graph(num_rows)"
   ]
  },
  {
   "cell_type": "code",
   "execution_count": 34,
   "metadata": {},
   "outputs": [
    {
     "name": "stdout",
     "output_type": "stream",
     "text": [
      "       🦉\n",
      "       🦉🦉\n",
      "       🦉🦉🦉\n",
      "       🦉🦉🦉🦉\n",
      "       🦉🦉🦉🦉\n",
      "       🦉🦉🦉\n",
      "       🦉🦉\n",
      "       🦉\n"
     ]
    }
   ],
   "source": [
    "def draw_owl_graph(num_rows):\n",
    "    spaces = num_rows - 1\n",
    "    for i in range(1, num_rows+1 ):\n",
    "        if i < num_rows // 2 + 1:\n",
    "            owls = i\n",
    "        else:\n",
    "            owls = num_rows - i + 1\n",
    "        print(' ' * spaces, end='')\n",
    "        print('🦉' * owls)\n",
    "\n",
    "\n",
    "num_rows = int(input(\"Enter the number of rows for the Owl graph: \"))\n",
    "draw_owl_graph(num_rows)"
   ]
  },
  {
   "cell_type": "code",
   "execution_count": 33,
   "metadata": {},
   "outputs": [
    {
     "name": "stdout",
     "output_type": "stream",
     "text": [
      "🦉\n",
      "🦉🦉\n",
      "🦉🦉🦉\n",
      "🦉🦉🦉🦉\n",
      "🦉🦉🦉🦉\n",
      "🦉🦉🦉\n",
      "🦉🦉\n",
      "🦉\n"
     ]
    }
   ],
   "source": [
    "# Example usage with 4 rows\n",
    "num_rows = int(input(\"Enter the number of rows for the Owl graph: \"))\n",
    "draw_owl_graph(num_rows)"
   ]
  },
  {
   "cell_type": "markdown",
   "metadata": {},
   "source": []
  },
  {
   "cell_type": "code",
   "execution_count": 21,
   "metadata": {},
   "outputs": [
    {
     "name": "stdout",
     "output_type": "stream",
     "text": [
      "    🦉\n",
      "   🦉🦉\n",
      "  🦉🦉🦉\n",
      " 🦉🦉🦉🦉\n",
      "🦉🦉🦉🦉🦉\n",
      "🦉🦉🦉🦉\n",
      "🦉🦉🦉🦉🦉\n",
      "🦉🦉🦉🦉\n"
     ]
    }
   ],
   "source": [
    "def draw_owl_graph2(num_rows):\n",
    "    max_owls = num_rows // 2 + 1\n",
    "    spaces = max_owls - 1\n",
    "    owls = 1\n",
    "\n",
    "    for _ in range(num_rows):\n",
    "        print(' ' * spaces, end='')\n",
    "        print('🦉' * owls)\n",
    "\n",
    "        if owls >= max_owls:\n",
    "            owls = max_owls - 1\n",
    "        else:\n",
    "            owls += 1\n",
    "\n",
    "        spaces -= 1\n",
    "\n",
    "# Example usage with 4 rows\n",
    "num_rows = int(input(\"Enter the number of rows for the Owl graph: \"))\n",
    "draw_owl_graph2(num_rows)"
   ]
  },
  {
   "cell_type": "code",
   "execution_count": 23,
   "metadata": {},
   "outputs": [
    {
     "name": "stdout",
     "output_type": "stream",
     "text": [
      "       🦉\n",
      "      🦉🦉\n",
      "     🦉🦉🦉\n",
      "    🦉🦉🦉🦉\n",
      "   🦉🦉🦉🦉🦉\n",
      "  🦉🦉🦉🦉🦉🦉\n",
      " 🦉🦉🦉🦉🦉🦉🦉\n",
      "🦉🦉🦉🦉🦉🦉🦉🦉\n",
      "OwlOwlOwlOwlOwlOwlOwlOwlOwl\n",
      "OwlOwlOwlOwlOwlOwlOwlOwl\n",
      " OwlOwlOwlOwlOwlOwlOwl\n",
      "  OwlOwlOwlOwlOwlOwl\n",
      "   OwlOwlOwlOwlOwl\n",
      "    OwlOwlOwlOwl\n",
      "     OwlOwlOwl\n"
     ]
    }
   ],
   "source": [
    "\n",
    "# Step 1: Start\n",
    "\n",
    "# Step 2: Read the number of rows from the user\n",
    "num_rows = int(input(\"Enter the number of rows: \"))\n",
    "\n",
    "# Step 3: Set a variable \"spaces\" to (number of rows - 1)\n",
    "spaces = num_rows - 1\n",
    "\n",
    "# Step 4: Set a variable \"owls\" to 1\n",
    "owls = 1\n",
    "\n",
    "# Step 5: Repeat steps 6-10 for each row from 1 to number of rows\n",
    "for row in range(1, num_rows + 1):\n",
    "    # Step 6: Print \"spaces\" number of spaces\n",
    "    print(\" \" * spaces, end=\"\")\n",
    "    \n",
    "    # Step 7: Print \"owls\" number of Owls\n",
    "    print(\"🦉\" * owls, end=\"\")\n",
    "    \n",
    "    # Step 8: Print a new line character\n",
    "    print()\n",
    "    \n",
    "    # Step 9: Decrease \"spaces\" by 1 and increase \"owls\" by 1\n",
    "    spaces -= 1\n",
    "    owls += 1\n",
    "    \n",
    "# Step 11: Repeat steps 12-16 for each row from (number of rows -1) down to 1\n",
    "for row in range(num_rows - 1,0,-1):\n",
    "    # Step12 : Print &quot;spaces&quot; number of spaces.\n",
    "    print(\" \" * spaces, end=\"\")\n",
    "    \n",
    "    #Step13 : Print &quot;owls&quot; number of Owls.\n",
    "    print(\"Owl\" * owls, end=\"\")\n",
    "    \n",
    "     #Step14 : Print a new line character.\n",
    "    print()\n",
    "    \n",
    "     #Step15 : Decrease &quot;spaces&quot; by one and decrease &quot;owls&quot; by one .\n",
    "    spaces += 1 \n",
    "    owls -= 1\n",
    "    \n",
    "# Step17 : Stop"
   ]
  },
  {
   "cell_type": "code",
   "execution_count": null,
   "metadata": {},
   "outputs": [],
   "source": [
    "\n",
    "\n",
    "# Function to draw the Owl graph\n",
    "def draw_owl_graph(rows):\n",
    "    spaces = rows - 1\n",
    "    owls = 1\n",
    "    \n",
    "    # Loop for printing each row\n",
    "    for i in range(rows):\n",
    "        # Printing spaces before Owls in the row\n",
    "        print(\" \" * spaces, end=\"\")\n",
    "        \n",
    "        # Loop for printing Owls in the row\n",
    "        for j in range(owls):\n",
    "           print(\"🦉\", end=\"\")\n",
    "        \n",
    "        # Decreasing spaces and increasing owls for next row\n",
    "        spaces -= 1\n",
    "        owls += 1\n",
    "        \n",
    "        # Moving to next line after printing a row of Owls\n",
    "        print(\"\")\n",
    "    \n",
    "    # Loop for printing remaining rows (inverted)\n",
    "    for i in range(rows-2, -1, -1):\n",
    "        # Printing spaces before Owls in the row\n",
    "        print(\" \" * spaces, end=\"\")\n",
    "        \n",
    "        # Loop for printing Owls in the row\n",
    "        for j in range(owls):"
   ]
  },
  {
   "cell_type": "code",
   "execution_count": 24,
   "metadata": {},
   "outputs": [
    {
     "name": "stdout",
     "output_type": "stream",
     "text": [
      "       🦉\n",
      "      🦉🦉\n",
      "     🦉🦉🦉\n",
      "    🦉🦉🦉🦉\n",
      "   🦉🦉🦉🦉🦉\n",
      "  🦉🦉🦉🦉🦉🦉\n",
      " 🦉🦉🦉🦉🦉🦉🦉\n",
      "🦉🦉🦉🦉🦉🦉🦉🦉\n",
      "🦉🦉🦉🦉🦉🦉🦉🦉\n",
      "🦉🦉🦉🦉🦉🦉🦉\n",
      " 🦉🦉🦉🦉🦉🦉\n",
      "  🦉🦉🦉🦉🦉\n",
      "   🦉🦉🦉🦉\n",
      "    🦉🦉🦉\n",
      "     🦉🦉\n",
      "      🦉\n"
     ]
    }
   ],
   "source": [
    "# Step 1: Start\n",
    "# Step 2: Read the number of rows from the user.\n",
    "num_rows = int(input(\"Enter the number of rows: \"))\n",
    "\n",
    "# Step 3: Set a variable 'spaces' to (number of rows - 1).\n",
    "spaces = num_rows - 1\n",
    "\n",
    "# Step 4: Set a variable 'owls' to 1.\n",
    "owls = 1\n",
    "\n",
    "# Step 5: Repeat steps 6-11 for each row, starting from row number 1 and incrementing by 1 until the number of rows is reached.\n",
    "for row in range(1, num_rows + 1):\n",
    "    # Step 6: Print 'spaces' number of spaces.\n",
    "    print(\" \" * spaces, end=\"\")\n",
    "    \n",
    "    # Step 7: Repeat steps 8-9 for each owl in the row, starting from owl number 1 and incrementing by 1 until 'owls' is reached.\n",
    "    for owl in range(1, owls + 1):\n",
    "        # Step 8: Print one Owl emoji 🦉.\n",
    "        print(\"🦉\", end=\"\")\n",
    "    \n",
    "    # Step 9: Decrease 'spaces' by 1.\n",
    "    spaces -= 1\n",
    "    \n",
    "    # Step10 : Increase 'owls' by one.\n",
    "    owls += 1\n",
    "    \n",
    "    # Move to next line after printing each row\n",
    "    print()\n",
    "\n",
    "# Step11 : Repeat steps12-17 for each row, starting from (number of rows -1) and decrementing by one until row number is greater than or equal to zero.\n",
    "for row in range(num_rows - 1, -1, -1):\n",
    "    # Step12 : Print 'spaces' number of spaces.\n",
    "    print(\" \" * spaces, end=\"\")\n",
    "    \n",
    "    #Step13 : Repeat steps14-15 for each owl in the row, starting from owl number one and incrementing by one until owl is less than or equal to owls.\n",
    "    for owl in range(1, owls):\n",
    "        # Step14 : Print one Owl emoji 🦉.\n",
    "        print(\"🦉\", end=\"\")\n",
    "    \n",
    "    # Step15 : Decrease spaces by one.\n",
    "    spaces += 1\n",
    "    \n",
    "    # Step16 : Decrease owls by one.\n",
    "    owls -= 1\n",
    "    \n",
    "    # Move to next line after printing each row\n",
    "    print()\n",
    "\n",
    "# Step17 : Stop"
   ]
  },
  {
   "cell_type": "code",
   "execution_count": 26,
   "metadata": {},
   "outputs": [
    {
     "name": "stdout",
     "output_type": "stream",
     "text": [
      "       🦉\n",
      "         \n",
      "           \n",
      "             \n",
      "               \n",
      "                 \n",
      "               \n",
      "             \n"
     ]
    }
   ],
   "source": [
    "def print_owls_pattern(numRows):\n",
    "    numOwls = 1\n",
    "    spaces = numRows-1\n",
    "\n",
    "    for row in range(1, numRows + 1):\n",
    "        print(\" \" * spaces, end=\"\")\n",
    "        \n",
    "        for owl in range(1, numOwls + 1):\n",
    "            print(\"🦉\", end=\"\")\n",
    "        \n",
    "        print()\n",
    "        \n",
    "        if row <= (numRows // 2) + 1:\n",
    "            spaces += 2\n",
    "            numOwls -= 1\n",
    "        else:\n",
    "            spaces -= 2\n",
    "            numOwls += 1\n",
    "\n",
    "# Example usage:\n",
    "print_owls_pattern(8)"
   ]
  },
  {
   "cell_type": "code",
   "execution_count": 29,
   "metadata": {},
   "outputs": [
    {
     "name": "stdout",
     "output_type": "stream",
     "text": [
      "5\n",
      "🦉\n",
      "🦉🦉\n",
      "🦉🦉🦉\n",
      "🦉🦉🦉🦉\n",
      "🦉🦉🦉🦉🦉\n",
      "🦉🦉🦉🦉\n",
      "🦉🦉🦉\n",
      "🦉🦉\n"
     ]
    }
   ],
   "source": [
    "def draw_owl_graph(num_rows):\n",
    "    max_owls = num_rows // 2 + 1\n",
    "    print(max_owls)\n",
    "    owls = 1\n",
    "\n",
    "    for _ in range(num_rows):\n",
    "        print('🦉' * owls)\n",
    "\n",
    "        if _ < max_owls - 1:\n",
    "            owls += 1\n",
    "        else:\n",
    "            owls -= 1\n",
    "\n",
    "# Example usage with 8 rows\n",
    "num_rows = 8\n",
    "draw_owl_graph(num_rows)"
   ]
  },
  {
   "cell_type": "code",
   "execution_count": 30,
   "metadata": {},
   "outputs": [
    {
     "name": "stdout",
     "output_type": "stream",
     "text": [
      "🦉\n",
      "🦉🦉\n",
      "🦉🦉🦉\n",
      "🦉🦉🦉🦉\n",
      "🦉🦉🦉🦉🦉\n",
      "🦉🦉🦉🦉🦉🦉\n",
      "🦉🦉🦉🦉🦉🦉🦉\n",
      "🦉🦉🦉🦉🦉🦉🦉🦉\n"
     ]
    }
   ],
   "source": [
    "def draw_owl_graph(num_rows):\n",
    "    max_owls = num_rows - 1 if num_rows % 2 != 0 else num_rows\n",
    "    owls = 1\n",
    "\n",
    "    for _ in range(num_rows):\n",
    "        print('🦉' * owls)\n",
    "\n",
    "        if _ < max_owls:\n",
    "            owls += 1\n",
    "        else:\n",
    "            owls -= 1\n",
    "\n",
    "# Example usage with 8 rows\n",
    "num_rows = 8\n",
    "draw_owl_graph(num_rows)"
   ]
  },
  {
   "cell_type": "code",
   "execution_count": 31,
   "metadata": {},
   "outputs": [
    {
     "name": "stdout",
     "output_type": "stream",
     "text": [
      "       🦉\n",
      "      🦉🦉\n",
      "     🦉🦉🦉\n",
      "    🦉🦉🦉🦉\n",
      "   🦉🦉🦉🦉🦉\n",
      "  🦉🦉🦉🦉🦉🦉\n",
      " 🦉🦉🦉🦉🦉🦉🦉\n",
      "🦉🦉🦉🦉🦉🦉🦉🦉\n"
     ]
    }
   ],
   "source": [
    "rows = int(input(\"Enter the number of rows: \")) # get the number of rows from the user\n",
    "for i in range(1, rows + 1): # loop from 1 to rows\n",
    "    for j in range(1, rows - i + 1): # loop from 1 to rows - i\n",
    "        print(\" \", end=\"\") # print a space without a newline\n",
    "    for k in range(1, i + 1): # loop from 1 to i\n",
    "        print(\"🦉\", end=\"\") # print an owl without a newline\n",
    "    print() # print a newline"
   ]
  }
 ],
 "metadata": {
  "kernelspec": {
   "display_name": "Python 3.7.4 ('base')",
   "language": "python",
   "name": "python3"
  },
  "language_info": {
   "codemirror_mode": {
    "name": "ipython",
    "version": 3
   },
   "file_extension": ".py",
   "mimetype": "text/x-python",
   "name": "python",
   "nbconvert_exporter": "python",
   "pygments_lexer": "ipython3",
   "version": "3.7.4"
  },
  "orig_nbformat": 4,
  "vscode": {
   "interpreter": {
    "hash": "ce9cbee8b8b4783e4118b15d27eb28f4c083b6afed4be20066d817ccf141bf82"
   }
  }
 },
 "nbformat": 4,
 "nbformat_minor": 2
}
